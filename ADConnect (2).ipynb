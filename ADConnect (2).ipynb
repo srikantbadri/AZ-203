{
 "cells": [
  {
   "cell_type": "markdown",
   "metadata": {},
   "source": [
    "# Azure AD Connect\n"
   ]
  },
  {
   "cell_type": "markdown",
   "metadata": {},
   "source": [
    "- Azure AD Connect will integrate your on-premises directories with Azure Active Directory. Azure AD Connect provides the newest capabilities and replaces older versions of identity integration tools such as DirSync and Azure AD Sync."
   ]
  },
  {
   "cell_type": "markdown",
   "metadata": {},
   "source": [
    "## AD Connect Flow\n",
    "![ADConnect](https://docs.microsoft.com/en-us/learn/modules/design-for-security-in-azure/media/aadconnectxprs_960.png)\n"
   ]
  },
  {
   "cell_type": "markdown",
   "metadata": {},
   "source": [
    "### Multi-factor authentication\n",
    "  Multi-factor authentication (MFA) provides additional security for your identities by requiring two or more elements for full authentication. These elements fall into three categories:\n",
    "\n",
    "    something you know\n",
    "    something you possess\n",
    "    something you are\n",
    "\n",
    "Something you know would be a password, or the answer to a security question. Something you possess could be a mobile app that receives a notification or a token generating device. Something you are is typically some sort of biometric property such as a fingerprint or face scan used on many mobile devices."
   ]
  },
  {
   "cell_type": "markdown",
   "metadata": {},
   "source": [
    "### Conditional access policy\n",
    "Lamna Healthcare has created a conditional access policy that requires users accessing the application from an IP address outside of the company network to be challenged with MFA.\n",
    "![Access Policy](https://docs.microsoft.com/en-us/learn/modules/design-for-security-in-azure/media/conditional-access.png)"
   ]
  },
  {
   "cell_type": "markdown",
   "metadata": {},
   "source": [
    "###### Azure AD Application Proxy\n",
    "![Azure AD Application Proxy](ADApplicationProxy.png)"
   ]
  },
  {
   "cell_type": "markdown",
   "metadata": {},
   "source": [
    "### Infrastructure Protection\n",
    "Lamna Healthcare has addressed issues from their incident where infrastructure was inadvertently deleted. They've used role-based access control to better manage the security of their infrastructure, and are using managed identities to keep their credentials out of code and ease administration of the identities needed for their services."
   ]
  },
  {
   "cell_type": "markdown",
   "metadata": {},
   "source": [
    "- Role based access: Role-based access control (RBAC) helps you manage who has access to Azure resources, what they can do with those resources, and what areas they have access to.\n",
    "- Service Principal: \n",
    "   Consider the use 'sudo' on a bash prompt or on Windows using \"run as Administrator\". In both of those cases, you are still logged in as the same identity as before, but you've changed the role under which you are executing.\n",
    "   \n",
    "   So, a Service Principal is literally named. It is an identity that is used by a service or application. Like other identities, it can be assigned roles.\n",
    "   \n",
    "   \n",
    "- Managed Identities: Creation of Service Principal can be tedious.\n",
    "    Creating a managed identity means creating an account on Azure AD. Azure infrastructure will automatically take care of authenticating the service and managing the account. You can then use that account like any other AD account including securely letting the authenticated service access other Azure resources\n",
    "\n",
    "#### Points:\n",
    "- Azure role-based access control can only be applied to Azure resources. Files and folders within a Linux file system can be secured with various methods, but not with Azure role-based access control. \n",
    "- Managed identities for Azure resources is a method of assigning an identity to services. Through this assignment, role-based access control can be granted to manage Azure services, such as starting and stopping virtual machines. \n"
   ]
  },
  {
   "cell_type": "markdown",
   "metadata": {},
   "source": [
    "### Encryption\n",
    "- Azure Disk Encryption (ADE) is a capability that helps you encrypt your Windows and Linux IaaS virtual machine disks.\n",
    "- Transparent data encryption (TDE) helps protect Azure SQL Database and Azure Data Warehouse against the threat of malicious activity. It performs real-time encryption and decryption of the database, associated backups, and transaction log files at rest without requiring changes to the application. By default, TDE is enabled for all newly deployed Azure SQL Databases.\n",
    "- Identify and classify data"
   ]
  },
  {
   "cell_type": "markdown",
   "metadata": {},
   "source": [
    "  ###  Azure Security Center\n",
    "  Azure Security Center (ASC) is a monitoring service that provides threat protection across all of your services both in Azure, and on-premises.\n",
    "  \n",
    "  ![Azure Security Center](https://docs.microsoft.com/en-us/learn/advocates/top-5-security-items-to-consider/media/2-pricing-tier.png)"
   ]
  },
  {
   "cell_type": "markdown",
   "metadata": {},
   "source": [
    "### Azure Key Vault\n",
    "Azure Key Vault is a secret store: a centralized cloud service for storing application secrets. Key Vault keeps your confidential data safe by keeping application secrets in a single central location and providing secure access, permissions control, and access logging."
   ]
  },
  {
   "cell_type": "markdown",
   "metadata": {},
   "source": [
    "- Azure Storage accounts provide several high-level security benefits for the data in the cloud:\n",
    "\n",
    "   - Protect the data at rest\n",
    "   - Protect the data in transit\n",
    "   - Support browser cross-domain access\n",
    "   - Control who can access data\n",
    "   - Audit storage access\n"
   ]
  },
  {
   "cell_type": "markdown",
   "metadata": {},
   "source": [
    "### Shared Access Signature\n",
    " - For untrusted clients, use a shared access signature (SAS). A shared access signature is a string that contains a security token that can be attached to a URI. Use a shared access signature to delegate access to storage objects and specify constraints, such as the permissions and the time range of access.\n",
    "\n",
    "Two types of SAS:<br>\n",
    "1) service level:\n",
    "   - You can use a service-level shared access signature to allow access to specific resources in a storage account. You'd use this type of shared access signature, for example, to allow an app to retrieve a list of files in a file system or to download a file.\n",
    "\n",
    "2) Account level:\n",
    "   - Use an account-level shared access signature to allow access to anything that a service-level shared access signature can allow, plus additional resources and abilities. For example, you can use an account-level shared access signature to allow the ability to create file systems.\n"
   ]
  },
  {
   "cell_type": "markdown",
   "metadata": {},
   "source": [
    "### Advanced Threat Protection Option in Storage Account:\n",
    "- Advanced Threat Protection, now in public preview, detects anomalies in account activity. It then notifies you of potentially harmful attempts to access your account. You don't have to be a security expert \n",
    "or manage security monitoring systems to take advantage of this layer of threat protection.\n",
    "\n",
    "![Advanced Threat Protection](https://docs.microsoft.com/en-us/learn/data-ai-cert/secure-azure-storage-account/media/6-preview.png)"
   ]
  },
  {
   "cell_type": "markdown",
   "metadata": {
    "collapsed": true
   },
   "source": [
    "#### Command to create keyvault:\n",
    "az keyvault create \n",
    "    --resource-group Learn-f18d3cdd-d608-4ff2-90ed-ea19b7aa2aef \n",
    "    --name your-unique-vault-name\n",
    "    \n",
    "#### Add the secret\n",
    "az keyvault secret set \n",
    "    --name SecretPassword \n",
    "    --value reindeer_flotilla \n",
    "    --vault-name your-unique-vault-name\n",
    "    \n",
    "- When you enable managed identity(Identity option in app service) on your web app, Azure activates a separate token-granting REST service specifically for use by your app. Your app will request tokens from this service instead of Azure Active Directory. \n",
    "- Your app authenticates to a managed identities token service with a secret injected into its environment variables at runtime. This eliminates the need to store secrets during configuration. \n",
    "\n",
    "\n",
    "- Create an app service plan:\n",
    "az appservice plan create \n",
    "    --name keyvault-exercise-plan \n",
    "    --sku FREE \n",
    "    --resource-group Learn-f18d3cdd-d608-4ff2-90ed-ea19b7aa2aef\n",
    "    \n",
    "-Create an app service:\n",
    "az webapp create \n",
    "    --plan keyvault-exercise-plan \n",
    "    --resource-group Learn-f18d3cdd-d608-4ff2-90ed-ea19b7aa2aef \n",
    "    --name srikantappservice\n",
    "\n",
    "- Enable Managed Identity:\n",
    "az webapp identity assign \n",
    "    --resource-group Learn-f18d3cdd-d608-4ff2-90ed-ea19b7aa2aef \n",
    "    --name srikantappservice\n",
    "     \n",
    "     - gives principal identity as output\n",
    "     \n",
    " \n",
    "- Grant access to the vault:\n",
    " - Running this command will grant Get and List access\n",
    "az keyvault set-policy \n",
    "    --secret-permissions get list \n",
    "    --name your-unique-vault-name \n",
    "    --object-id your-managed-identity-principleid\n",
    "\n",
    "\n"
   ]
  },
  {
   "cell_type": "markdown",
   "metadata": {},
   "source": [
    "#### Deployment command in dotnet:\n",
    " dotnet publish -o pub\n",
    "zip -j site.zip pub/*\n",
    "\n",
    "az webapp deployment source config-zip \\\n",
    "    --src site.zip \\\n",
    "    --resource-group Learn-f18d3cdd-d608-4ff2-90ed-ea19b7aa2aef \\\n",
    "    --name your-unique-app-name  \n",
    "    \n",
    "az webapp deployment source config-zip \\\n",
    "    --src site.zip \\\n",
    "    --resource-group Learn-f18d3cdd-d608-4ff2-90ed-ea19b7aa2aef \\\n",
    "    --name srikantappservice      "
   ]
  },
  {
   "cell_type": "markdown",
   "metadata": {},
   "source": [
    "### Azure Key Vault Authentication & Permissions\n",
    "1)Authentication\n",
    " - It uses Active Directory to authenticate users and applications.\n",
    " \n",
    "2)Permissions:\n",
    " - Get(Read secret values)\n",
    " - List(list names of all secret)\n",
    " - Set(Create or update secret values)\n"
   ]
  },
  {
   "cell_type": "code",
   "execution_count": null,
   "metadata": {
    "collapsed": true
   },
   "outputs": [],
   "source": []
  }
 ],
 "metadata": {
  "kernelspec": {
   "display_name": "Python 3",
   "language": "python",
   "name": "python3"
  },
  "language_info": {
   "codemirror_mode": {
    "name": "ipython",
    "version": 3
   },
   "file_extension": ".py",
   "mimetype": "text/x-python",
   "name": "python",
   "nbconvert_exporter": "python",
   "pygments_lexer": "ipython3",
   "version": "3.5.2"
  }
 },
 "nbformat": 4,
 "nbformat_minor": 2
}
